{
 "cells": [
  {
   "cell_type": "markdown",
   "metadata": {
    "tags": []
   },
   "source": [
    "# **Task C1** \n",
    "## Analyzing the Avocado Data\n",
    "\n",
    "##### This task uses the avocado dataset. The dataset contains historical data on avocado prices and sales volume in multiple U.S. markets. One of the columns in this dataset, Unnamed: 0, contains sequential numbers that are irrelevant to analyzing this data. Three of the other columns contain sales for PLU (price look-up) codes 4046, 4225, and 4770. These columns will not be used in this task. If you review the data, you’ll see that some of the regions overlap. For example, one of the regions is the entire U.S., and all of the other regions are parts of the U.S. Because of that, you would need to review this data carefully before determining the best way to analyze it. For the purposes of this task though, the overlapping regions won’t be taken into consideration.\n",
    "\n",
    "##### https://www.kaggle.com/neuromusic/avocado-prices\n",
    "\n",
    "<img src=\"avocado-logo.png\" alt=\"SIT112 Avocado!\" width=\"1800\" height=\"200\">\n",
    "\n",
    "\n"
   ]
  },
  {
   "cell_type": "markdown",
   "metadata": {},
   "source": [
    "### A. Instructions\n",
    "\n",
    "1. Make sure you have completed Task P1 before working on this task. \n",
    "2. Complete the task based on the comments and hints provided in the following sections.   \n",
    "3. Complete the TaskCompletionReport from. \n",
    "4. Before submission, please make sure you have executed all the cells in your jupyter notebook without any error; otherwise, your submission may not be flagged as complete. \n",
    "5. Submit (1) the TaskCompletionReport as a \"PDF\" file and (2) your solution (code) as an \"ipynb\" file (do not zip/combine them). You can do this by the end of Week 12, but feedback will only be provided for submissions received by 11 AM on the due date. <font color=\"red\">Please do not include the dataset in your submission. </font>\n",
    "6. The workshops are the primary venue for you to seek help if you need any clarification/assitance. The tutors are there to help you complete and submit the tasks. Please avoid emailing your code or screenshots to the tutors outside workshop hours. \n",
    "7. Consider using online resources such as ChatGPT to strenghten your undertanding of the task. \n",
    "\n",
    "Good luck :)"
   ]
  },
  {
   "cell_type": "markdown",
   "metadata": {},
   "source": [
    "### B. Write Python code that performs (answers) the following operations (questions) "
   ]
  },
  {
   "cell_type": "code",
   "execution_count": 61,
   "metadata": {
    "tags": []
   },
   "outputs": [],
   "source": [
    "import pandas as pd"
   ]
  },
  {
   "cell_type": "markdown",
   "metadata": {},
   "source": [
    "##### 1. Read the data from the CSV file into a DataFrame."
   ]
  },
  {
   "cell_type": "code",
   "execution_count": 65,
   "metadata": {
    "tags": []
   },
   "outputs": [
    {
     "data": {
      "text/html": [
       "<div>\n",
       "<style scoped>\n",
       "    .dataframe tbody tr th:only-of-type {\n",
       "        vertical-align: middle;\n",
       "    }\n",
       "\n",
       "    .dataframe tbody tr th {\n",
       "        vertical-align: top;\n",
       "    }\n",
       "\n",
       "    .dataframe thead th {\n",
       "        text-align: right;\n",
       "    }\n",
       "</style>\n",
       "<table border=\"1\" class=\"dataframe\">\n",
       "  <thead>\n",
       "    <tr style=\"text-align: right;\">\n",
       "      <th></th>\n",
       "      <th>Unnamed: 0</th>\n",
       "      <th>Date</th>\n",
       "      <th>AveragePrice</th>\n",
       "      <th>Total Volume</th>\n",
       "      <th>4046</th>\n",
       "      <th>4225</th>\n",
       "      <th>4770</th>\n",
       "      <th>Total Bags</th>\n",
       "      <th>Small Bags</th>\n",
       "      <th>Large Bags</th>\n",
       "      <th>XLarge Bags</th>\n",
       "      <th>type</th>\n",
       "      <th>year</th>\n",
       "      <th>region</th>\n",
       "    </tr>\n",
       "  </thead>\n",
       "  <tbody>\n",
       "    <tr>\n",
       "      <th>0</th>\n",
       "      <td>0</td>\n",
       "      <td>2015-12-27</td>\n",
       "      <td>1.33</td>\n",
       "      <td>64236.62</td>\n",
       "      <td>1036.74</td>\n",
       "      <td>54454.85</td>\n",
       "      <td>48.16</td>\n",
       "      <td>8696.87</td>\n",
       "      <td>8603.62</td>\n",
       "      <td>93.25</td>\n",
       "      <td>0.0</td>\n",
       "      <td>conventional</td>\n",
       "      <td>2015</td>\n",
       "      <td>Albany</td>\n",
       "    </tr>\n",
       "    <tr>\n",
       "      <th>1</th>\n",
       "      <td>1</td>\n",
       "      <td>2015-12-20</td>\n",
       "      <td>1.35</td>\n",
       "      <td>54876.98</td>\n",
       "      <td>674.28</td>\n",
       "      <td>44638.81</td>\n",
       "      <td>58.33</td>\n",
       "      <td>9505.56</td>\n",
       "      <td>9408.07</td>\n",
       "      <td>97.49</td>\n",
       "      <td>0.0</td>\n",
       "      <td>conventional</td>\n",
       "      <td>2015</td>\n",
       "      <td>Albany</td>\n",
       "    </tr>\n",
       "    <tr>\n",
       "      <th>2</th>\n",
       "      <td>2</td>\n",
       "      <td>2015-12-13</td>\n",
       "      <td>0.93</td>\n",
       "      <td>118220.22</td>\n",
       "      <td>794.70</td>\n",
       "      <td>109149.67</td>\n",
       "      <td>130.50</td>\n",
       "      <td>8145.35</td>\n",
       "      <td>8042.21</td>\n",
       "      <td>103.14</td>\n",
       "      <td>0.0</td>\n",
       "      <td>conventional</td>\n",
       "      <td>2015</td>\n",
       "      <td>Albany</td>\n",
       "    </tr>\n",
       "    <tr>\n",
       "      <th>3</th>\n",
       "      <td>3</td>\n",
       "      <td>2015-12-06</td>\n",
       "      <td>1.08</td>\n",
       "      <td>78992.15</td>\n",
       "      <td>1132.00</td>\n",
       "      <td>71976.41</td>\n",
       "      <td>72.58</td>\n",
       "      <td>5811.16</td>\n",
       "      <td>5677.40</td>\n",
       "      <td>133.76</td>\n",
       "      <td>0.0</td>\n",
       "      <td>conventional</td>\n",
       "      <td>2015</td>\n",
       "      <td>Albany</td>\n",
       "    </tr>\n",
       "    <tr>\n",
       "      <th>4</th>\n",
       "      <td>4</td>\n",
       "      <td>2015-11-29</td>\n",
       "      <td>1.28</td>\n",
       "      <td>51039.60</td>\n",
       "      <td>941.48</td>\n",
       "      <td>43838.39</td>\n",
       "      <td>75.78</td>\n",
       "      <td>6183.95</td>\n",
       "      <td>5986.26</td>\n",
       "      <td>197.69</td>\n",
       "      <td>0.0</td>\n",
       "      <td>conventional</td>\n",
       "      <td>2015</td>\n",
       "      <td>Albany</td>\n",
       "    </tr>\n",
       "  </tbody>\n",
       "</table>\n",
       "</div>"
      ],
      "text/plain": [
       "   Unnamed: 0        Date  AveragePrice  Total Volume     4046       4225  \\\n",
       "0           0  2015-12-27          1.33      64236.62  1036.74   54454.85   \n",
       "1           1  2015-12-20          1.35      54876.98   674.28   44638.81   \n",
       "2           2  2015-12-13          0.93     118220.22   794.70  109149.67   \n",
       "3           3  2015-12-06          1.08      78992.15  1132.00   71976.41   \n",
       "4           4  2015-11-29          1.28      51039.60   941.48   43838.39   \n",
       "\n",
       "     4770  Total Bags  Small Bags  Large Bags  XLarge Bags          type  \\\n",
       "0   48.16     8696.87     8603.62       93.25          0.0  conventional   \n",
       "1   58.33     9505.56     9408.07       97.49          0.0  conventional   \n",
       "2  130.50     8145.35     8042.21      103.14          0.0  conventional   \n",
       "3   72.58     5811.16     5677.40      133.76          0.0  conventional   \n",
       "4   75.78     6183.95     5986.26      197.69          0.0  conventional   \n",
       "\n",
       "   year  region  \n",
       "0  2015  Albany  \n",
       "1  2015  Albany  \n",
       "2  2015  Albany  \n",
       "3  2015  Albany  \n",
       "4  2015  Albany  "
      ]
     },
     "execution_count": 65,
     "metadata": {},
     "output_type": "execute_result"
    }
   ],
   "source": [
    "# write your code here\n",
    "data = pd.read_csv('avocado.csv')\n",
    "data.head()"
   ]
  },
  {
   "cell_type": "markdown",
   "metadata": {},
   "source": [
    "##### 2. Multiply the Total Volume and AveragePrice columns, and store the result in a new column called EstimatedRevenue. Then, calculate the EstimatedRevenue for each region, sort the resulting data in descending order by EstimatedRevenue, and display the top 5 regions, except TotalUS, with the highest EstimatedRevenue.\n",
    "\n",
    "* Hint: the estimated revenue of region x = sum of the estimated revenues in region x"
   ]
  },
  {
   "cell_type": "code",
   "execution_count": 71,
   "metadata": {
    "tags": []
   },
   "outputs": [
    {
     "data": {
      "text/plain": [
       "region\n",
       "California      1.121414e+09\n",
       "West            1.066834e+09\n",
       "Northeast       9.600079e+08\n",
       "SouthCentral    8.740593e+08\n",
       "Southeast       7.036306e+08\n",
       "Name: Total_Revenue, dtype: float64"
      ]
     },
     "execution_count": 71,
     "metadata": {},
     "output_type": "execute_result"
    }
   ],
   "source": [
    "\n",
    "# Calculate revenue for each region\n",
    "data['Total_Revenue'] = data['Total Volume'] * data['AveragePrice']\n",
    "\n",
    "# Group data by region and sum the revenue\n",
    "region_sales = data.groupby('region')['Total_Revenue'].sum()\n",
    "\n",
    "# Exclude TotalUS region\n",
    "region_sales = region_sales.drop('TotalUS')\n",
    "\n",
    "# Get the top 5 regions by revenue\n",
    "top_sales_regions = region_sales.nlargest(5)\n",
    "\n",
    "# Display the top 5 regions\n",
    "top_sales_regions\n"
   ]
  },
  {
   "cell_type": "markdown",
   "metadata": {},
   "source": [
    "##### 3. Create a bar plot that shows the mean, median, and standard deviation of the Total Volume of the organic avocados sold in the regions with the highest overall Total Volume from (including) 2017."
   ]
  },
  {
   "cell_type": "code",
   "execution_count": 73,
   "metadata": {
    "tags": []
   },
   "outputs": [
    {
     "data": {
      "text/html": [
       "<div>\n",
       "<style scoped>\n",
       "    .dataframe tbody tr th:only-of-type {\n",
       "        vertical-align: middle;\n",
       "    }\n",
       "\n",
       "    .dataframe tbody tr th {\n",
       "        vertical-align: top;\n",
       "    }\n",
       "\n",
       "    .dataframe thead th {\n",
       "        text-align: right;\n",
       "    }\n",
       "</style>\n",
       "<table border=\"1\" class=\"dataframe\">\n",
       "  <thead>\n",
       "    <tr style=\"text-align: right;\">\n",
       "      <th></th>\n",
       "      <th>mean</th>\n",
       "      <th>median</th>\n",
       "      <th>std</th>\n",
       "    </tr>\n",
       "    <tr>\n",
       "      <th>region</th>\n",
       "      <th></th>\n",
       "      <th></th>\n",
       "      <th></th>\n",
       "    </tr>\n",
       "  </thead>\n",
       "  <tbody>\n",
       "    <tr>\n",
       "      <th>California</th>\n",
       "      <td>164844.836308</td>\n",
       "      <td>167193.75</td>\n",
       "      <td>33361.497553</td>\n",
       "    </tr>\n",
       "    <tr>\n",
       "      <th>GreatLakes</th>\n",
       "      <td>178094.391538</td>\n",
       "      <td>169816.92</td>\n",
       "      <td>48354.489850</td>\n",
       "    </tr>\n",
       "    <tr>\n",
       "      <th>Midsouth</th>\n",
       "      <td>142198.610615</td>\n",
       "      <td>139274.81</td>\n",
       "      <td>32964.267698</td>\n",
       "    </tr>\n",
       "    <tr>\n",
       "      <th>Northeast</th>\n",
       "      <td>243570.227077</td>\n",
       "      <td>233976.66</td>\n",
       "      <td>99930.570938</td>\n",
       "    </tr>\n",
       "    <tr>\n",
       "      <th>West</th>\n",
       "      <td>235409.159692</td>\n",
       "      <td>215628.86</td>\n",
       "      <td>80717.592835</td>\n",
       "    </tr>\n",
       "  </tbody>\n",
       "</table>\n",
       "</div>"
      ],
      "text/plain": [
       "                     mean     median           std\n",
       "region                                            \n",
       "California  164844.836308  167193.75  33361.497553\n",
       "GreatLakes  178094.391538  169816.92  48354.489850\n",
       "Midsouth    142198.610615  139274.81  32964.267698\n",
       "Northeast   243570.227077  233976.66  99930.570938\n",
       "West        235409.159692  215628.86  80717.592835"
      ]
     },
     "metadata": {},
     "output_type": "display_data"
    },
    {
     "data": {
      "text/plain": [
       "<Axes: xlabel='region'>"
      ]
     },
     "execution_count": 73,
     "metadata": {},
     "output_type": "execute_result"
    },
    {
     "data": {
      "image/png": "[encoded data removed]",
      "text/plain": [
       "<Figure size 640x480 with 1 Axes>"
      ]
     },
     "metadata": {},
     "output_type": "display_data"
    }
   ],
   "source": [
    "# Extract data for organic avocados from 2017 onwards, grouped by region (excluding TotalUS)\n",
    "organic_data = data[(data['type'] == 'organic') & (data['year'] >= 2017) & (data['region'] != 'TotalUS')]\n",
    "region_metrics = organic_data.groupby('region')['Total Volume'].agg(['sum', 'median', 'std'])\n",
    "\n",
    "# Get the top 5 regions with the highest Total Volume\n",
    "top_regions = region_metrics.nlargest(5, 'sum').index\n",
    "top_region_data = organic_data[organic_data['region'].isin(top_regions)]\n",
    "\n",
    "# Calculate statistics for the top regions\n",
    "top_region_stats = top_region_data.groupby('region')['Total Volume'].agg(['mean', 'median', 'std'])\n",
    "\n",
    "# Display summary statistics\n",
    "display(top_region_stats.head())\n",
    "\n",
    "# Create a bar plot to visualize the statistics\n",
    "top_region_stats.plot(kind='bar', y=['mean', 'median', 'std'], rot=90)"
   ]
  },
  {
   "cell_type": "markdown",
   "metadata": {},
   "source": [
    "##### 4. What is the mean and median of AveragePrice for each type of avocado (organic and conventional) in 2018? Be sure to include just the type, MeanPrice, and MedianPrice columns in the results."
   ]
  },
  {
   "cell_type": "code",
   "execution_count": 77,
   "metadata": {
    "tags": []
   },
   "outputs": [
    {
     "data": {
      "text/html": [
       "<div>\n",
       "<style scoped>\n",
       "    .dataframe tbody tr th:only-of-type {\n",
       "        vertical-align: middle;\n",
       "    }\n",
       "\n",
       "    .dataframe tbody tr th {\n",
       "        vertical-align: top;\n",
       "    }\n",
       "\n",
       "    .dataframe thead th {\n",
       "        text-align: right;\n",
       "    }\n",
       "</style>\n",
       "<table border=\"1\" class=\"dataframe\">\n",
       "  <thead>\n",
       "    <tr style=\"text-align: right;\">\n",
       "      <th></th>\n",
       "      <th>type</th>\n",
       "      <th>MeanPrice</th>\n",
       "      <th>MedianPrice</th>\n",
       "    </tr>\n",
       "  </thead>\n",
       "  <tbody>\n",
       "    <tr>\n",
       "      <th>0</th>\n",
       "      <td>conventional</td>\n",
       "      <td>1.127886</td>\n",
       "      <td>1.14</td>\n",
       "    </tr>\n",
       "    <tr>\n",
       "      <th>1</th>\n",
       "      <td>organic</td>\n",
       "      <td>1.567176</td>\n",
       "      <td>1.55</td>\n",
       "    </tr>\n",
       "  </tbody>\n",
       "</table>\n",
       "</div>"
      ],
      "text/plain": [
       "           type  MeanPrice  MedianPrice\n",
       "0  conventional   1.127886         1.14\n",
       "1       organic   1.567176         1.55"
      ]
     },
     "execution_count": 77,
     "metadata": {},
     "output_type": "execute_result"
    }
   ],
   "source": [
    "# write your code here\n",
    "\n",
    "avocados_2018 = data[(data['year'] == 2018) & (data['type'].isin(['organic', 'conventional']))]\n",
    "\n",
    "# Calculate the mean and median price for each type of avocado in 2018\n",
    "avocado_prices_2018 = avocados_2018.groupby('type')['AveragePrice'].agg(['mean', 'median'])\n",
    "\n",
    "# Rename columns and reset index\n",
    "avocado_prices_2018.columns = ['MeanPrice', 'MedianPrice']\n",
    "avocado_prices_2018.reset_index(inplace=True)\n",
    "\n",
    "# Display the results\n",
    "avocado_prices_2018"
   ]
  },
  {
   "cell_type": "markdown",
   "metadata": {},
   "source": [
    "##### 5. Analyze the consistency of sales for Small Bags, Large Bags, XLarge Bags, and Total Bags of the top 3 avocado producing regions (excluding TotalUS) for each type of avocado over time. \n",
    "\n",
    "##### *To explain consistency of sales, use the coefficient of variation, which is a statistical measure used to determine the consistency or variability of a data set. It is calculated as the ratio of the standard deviation to the mean, expressed as a percentage. Higher values of the coefficient of variation indicate greater variability or inconsistency in the data, while lower values indicate more consistency in the data.* "
   ]
  },
  {
   "cell_type": "code",
   "execution_count": 83,
   "metadata": {
    "tags": []
   },
   "outputs": [
    {
     "data": {
      "text/html": [
       "<div>\n",
       "<style scoped>\n",
       "    .dataframe tbody tr th:only-of-type {\n",
       "        vertical-align: middle;\n",
       "    }\n",
       "\n",
       "    .dataframe tbody tr th {\n",
       "        vertical-align: top;\n",
       "    }\n",
       "\n",
       "    .dataframe thead th {\n",
       "        text-align: right;\n",
       "    }\n",
       "</style>\n",
       "<table border=\"1\" class=\"dataframe\">\n",
       "  <thead>\n",
       "    <tr style=\"text-align: right;\">\n",
       "      <th></th>\n",
       "      <th></th>\n",
       "      <th>Small Bags</th>\n",
       "      <th>Large Bags</th>\n",
       "      <th>XLarge Bags</th>\n",
       "      <th>Total Bags</th>\n",
       "    </tr>\n",
       "    <tr>\n",
       "      <th>region</th>\n",
       "      <th>type</th>\n",
       "      <th></th>\n",
       "      <th></th>\n",
       "      <th></th>\n",
       "      <th></th>\n",
       "    </tr>\n",
       "  </thead>\n",
       "  <tbody>\n",
       "    <tr>\n",
       "      <th rowspan=\"2\" valign=\"top\">California</th>\n",
       "      <th>conventional</th>\n",
       "      <td>3.218931e+07</td>\n",
       "      <td>3.248096e+06</td>\n",
       "      <td>1.108079e+06</td>\n",
       "      <td>3.514518e+07</td>\n",
       "    </tr>\n",
       "    <tr>\n",
       "      <th>organic</th>\n",
       "      <td>1.431104e+06</td>\n",
       "      <td>1.488754e+05</td>\n",
       "      <td>0.000000e+00</td>\n",
       "      <td>1.560389e+06</td>\n",
       "    </tr>\n",
       "    <tr>\n",
       "      <th rowspan=\"2\" valign=\"top\">SouthCentral</th>\n",
       "      <th>conventional</th>\n",
       "      <td>1.999057e+07</td>\n",
       "      <td>7.474870e+06</td>\n",
       "      <td>4.828260e+05</td>\n",
       "      <td>2.744378e+07</td>\n",
       "    </tr>\n",
       "    <tr>\n",
       "      <th>organic</th>\n",
       "      <td>1.737775e+06</td>\n",
       "      <td>2.056253e+05</td>\n",
       "      <td>0.000000e+00</td>\n",
       "      <td>1.910286e+06</td>\n",
       "    </tr>\n",
       "    <tr>\n",
       "      <th rowspan=\"2\" valign=\"top\">West</th>\n",
       "      <th>conventional</th>\n",
       "      <td>3.388273e+07</td>\n",
       "      <td>1.893926e+07</td>\n",
       "      <td>1.112425e+05</td>\n",
       "      <td>5.172745e+07</td>\n",
       "    </tr>\n",
       "    <tr>\n",
       "      <th>organic</th>\n",
       "      <td>1.368988e+06</td>\n",
       "      <td>1.482123e+06</td>\n",
       "      <td>1.108539e+03</td>\n",
       "      <td>2.723219e+06</td>\n",
       "    </tr>\n",
       "  </tbody>\n",
       "</table>\n",
       "</div>"
      ],
      "text/plain": [
       "                             Small Bags    Large Bags   XLarge Bags  \\\n",
       "region       type                                                     \n",
       "California   conventional  3.218931e+07  3.248096e+06  1.108079e+06   \n",
       "             organic       1.431104e+06  1.488754e+05  0.000000e+00   \n",
       "SouthCentral conventional  1.999057e+07  7.474870e+06  4.828260e+05   \n",
       "             organic       1.737775e+06  2.056253e+05  0.000000e+00   \n",
       "West         conventional  3.388273e+07  1.893926e+07  1.112425e+05   \n",
       "             organic       1.368988e+06  1.482123e+06  1.108539e+03   \n",
       "\n",
       "                             Total Bags  \n",
       "region       type                        \n",
       "California   conventional  3.514518e+07  \n",
       "             organic       1.560389e+06  \n",
       "SouthCentral conventional  2.744378e+07  \n",
       "             organic       1.910286e+06  \n",
       "West         conventional  5.172745e+07  \n",
       "             organic       2.723219e+06  "
      ]
     },
     "metadata": {},
     "output_type": "display_data"
    },
    {
     "data": {
      "text/html": [
       "<div>\n",
       "<style scoped>\n",
       "    .dataframe tbody tr th:only-of-type {\n",
       "        vertical-align: middle;\n",
       "    }\n",
       "\n",
       "    .dataframe tbody tr th {\n",
       "        vertical-align: top;\n",
       "    }\n",
       "\n",
       "    .dataframe thead th {\n",
       "        text-align: right;\n",
       "    }\n",
       "</style>\n",
       "<table border=\"1\" class=\"dataframe\">\n",
       "  <thead>\n",
       "    <tr style=\"text-align: right;\">\n",
       "      <th></th>\n",
       "      <th></th>\n",
       "      <th>Small Bags</th>\n",
       "      <th>Large Bags</th>\n",
       "      <th>XLarge Bags</th>\n",
       "      <th>Total Bags</th>\n",
       "    </tr>\n",
       "    <tr>\n",
       "      <th>region</th>\n",
       "      <th>type</th>\n",
       "      <th></th>\n",
       "      <th></th>\n",
       "      <th></th>\n",
       "      <th></th>\n",
       "    </tr>\n",
       "  </thead>\n",
       "  <tbody>\n",
       "    <tr>\n",
       "      <th rowspan=\"2\" valign=\"top\">California</th>\n",
       "      <th>conventional</th>\n",
       "      <td>0.583109</td>\n",
       "      <td>1.105039</td>\n",
       "      <td>0.840635</td>\n",
       "      <td>0.591069</td>\n",
       "    </tr>\n",
       "    <tr>\n",
       "      <th>organic</th>\n",
       "      <td>0.690845</td>\n",
       "      <td>1.073864</td>\n",
       "      <td>NaN</td>\n",
       "      <td>0.706007</td>\n",
       "    </tr>\n",
       "    <tr>\n",
       "      <th rowspan=\"2\" valign=\"top\">SouthCentral</th>\n",
       "      <th>conventional</th>\n",
       "      <td>0.458171</td>\n",
       "      <td>0.666116</td>\n",
       "      <td>0.731524</td>\n",
       "      <td>0.494368</td>\n",
       "    </tr>\n",
       "    <tr>\n",
       "      <th>organic</th>\n",
       "      <td>0.675496</td>\n",
       "      <td>0.782929</td>\n",
       "      <td>NaN</td>\n",
       "      <td>0.673768</td>\n",
       "    </tr>\n",
       "    <tr>\n",
       "      <th>West</th>\n",
       "      <th>conventional</th>\n",
       "      <td>0.628604</td>\n",
       "      <td>0.572329</td>\n",
       "      <td>0.536888</td>\n",
       "      <td>0.593202</td>\n",
       "    </tr>\n",
       "  </tbody>\n",
       "</table>\n",
       "</div>"
      ],
      "text/plain": [
       "                           Small Bags  Large Bags  XLarge Bags  Total Bags\n",
       "region       type                                                         \n",
       "California   conventional    0.583109    1.105039     0.840635    0.591069\n",
       "             organic         0.690845    1.073864          NaN    0.706007\n",
       "SouthCentral conventional    0.458171    0.666116     0.731524    0.494368\n",
       "             organic         0.675496    0.782929          NaN    0.673768\n",
       "West         conventional    0.628604    0.572329     0.536888    0.593202"
      ]
     },
     "execution_count": 83,
     "metadata": {},
     "output_type": "execute_result"
    }
   ],
   "source": [
    "# write your code here\n",
    "\n",
    "# Get the top 3 regions (excluding TotalUS) with the highest sum of Total Volume\n",
    "top_regions = data[data.region != 'TotalUS'].groupby('region').sum().sort_values('Total Volume', ascending=False).head(3).index.tolist()\n",
    "\n",
    "# Get the sales of Small Bags, Large Bags, XLarge Bags, and Total Bags for each region and type of avocado\n",
    "sales_by_region_type = data[data.region.isin(top_regions)].groupby(['region', 'year', 'type']).agg({'Small Bags':'sum', 'Large Bags':'sum', 'XLarge Bags':'sum', 'Total Bags':'sum'})\n",
    "\n",
    "# Calculate the coefficient of variation for each region and bag type, by dividing the standard deviation of the bags sold by the mean number of bags sold.\n",
    "cv_by_region_type = sales_by_region_type.groupby(['region', 'type']).std() / sales_by_region_type.groupby(['region', 'type']).mean()\n",
    "\n",
    "# Display the standard deviation of sales by region and type\n",
    "display(sales_by_region_type.groupby(['region', 'type']).std())\n",
    "\n",
    "# Print the coefficient of variation results\n",
    "cv_by_region_type.head()\n"
   ]
  },
  {
   "cell_type": "markdown",
   "metadata": {},
   "source": [
    "### C. Learn more\n",
    "* https://www.statisticshowto.com/probability-and-statistics/how-to-find-a-coefficient-of-variation/"
   ]
  }
 ],
 "metadata": {
  "kernelspec": {
   "display_name": "Python 3 (ipykernel)",
   "language": "python",
   "name": "python3"
  },
  "language_info": {
   "codemirror_mode": {
    "name": "ipython",
    "version": 3
   },
   "file_extension": ".py",
   "mimetype": "text/x-python",
   "name": "python",
   "nbconvert_exporter": "python",
   "pygments_lexer": "ipython3",
   "version": "3.11.7"
  },
  "toc-showtags": false
 },
 "nbformat": 4,
 "nbformat_minor": 4
}
