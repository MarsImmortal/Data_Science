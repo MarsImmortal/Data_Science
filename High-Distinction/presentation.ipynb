{
 "cells": [
  {
   "cell_type": "markdown",
   "metadata": {
    "slideshow": {
     "slide_type": "slide"
    }
   },
   "source": [
    "# VIDEO ANALYSIS: \"YouTube Trends and Insights\"\n",
    "\n",
    "**Presenter:** Saksham Behal  \n",
    "**Student ID:** S222198007\n",
    "\n"
   ]
  },
  {
   "cell_type": "markdown",
   "metadata": {
    "slideshow": {
     "slide_type": "subslide"
    }
   },
   "source": [
    "# Task Overview\n",
    "\n",
    "The objective of this task is to analyze YouTube videos and comments from major news channels to study the discourse surrounding the COVID-19 pandemic. The main steps involved are:\n",
    "\n",
    "1. **Define Settings:**\n",
    "    - Set the date range from January 1, 2020, to January 1, 2023.\n",
    "    - Specify keywords: 'coronavirus', 'covid', 'covid-19', 'pandemic'.\n",
    "    - List of channels to analyze: Fox News, BBC News, CNN, MSNBC.\n",
    "\n",
    "2. **Data Collection:**\n",
    "    - Extract video data using the `get_channel_info()` function.\n",
    "    - Save video details to `videos.csv` and comments to `comments.csv`.\n",
    "\n",
    "3. **Sentiment Analysis:**\n",
    "    - Use TextBlob to analyze the sentiment of video titles and comments.\n",
    "    - Categorize sentiments as positive, negative, or neutral."
   ]
  },
  {
   "cell_type": "markdown",
   "metadata": {
    "slideshow": {
     "slide_type": "subslide"
    },
    "tags": []
   },
   "source": [
    "\n",
    "4. **Data Filtering:**\n",
    "    - Filter data within the specified date range.\n",
    "    - Group data by month and sentiment for each channel.\n",
    "\n",
    "5. **Visualization:**\n",
    "    - Plot the monthly distribution of sentiments for video titles and comments.\n",
    "    - Compare sentiment trends across different news channels.\n",
    "\n",
    "This process will provide insights into the public sentiment and media coverage of the COVID-19 pandemic."
   ]
  },
  {
   "cell_type": "markdown",
   "metadata": {
    "slideshow": {
     "slide_type": "slide"
    },
    "tags": []
   },
   "source": [
    "# Data Cleaning and Preparation\n",
    "\n",
    "1. **Loading Data:**\n",
    "    - Load videos and comments data from CSV files.\n",
    "\n",
    "2. **Datetime Conversion:**\n",
    "    - Convert date columns to datetime objects.\n",
    "\n",
    "3. **Creating Time-Based Columns:**\n",
    "    - Create week, month, and year columns.\n",
    "\n",
    "4. **Duration Conversion:**\n",
    "    - Convert duration column to seconds.\n",
    "\n",
    "5. **Merging Data:**\n",
    "    - Merge videos and comments data."
   ]
  },
  {
   "cell_type": "markdown",
   "metadata": {
    "slideshow": {
     "slide_type": "subslide"
    },
    "tags": []
   },
   "source": [
    "![Data Preperation](Data_preperation.png)\n"
   ]
  },
  {
   "cell_type": "markdown",
   "metadata": {
    "slideshow": {
     "slide_type": "slide"
    },
    "tags": []
   },
   "source": [
    "## Objective\n",
    "\n",
    "Analyze the monthly distribution of positive, negative, and neutral sentiments in video titles and comments from January 2020 to January 2021 across different news publishers (channels). Utilize visualization techniques to present the findings and discuss observations regarding sentiment distribution among various news sources.\n"
   ]
  },
  {
   "cell_type": "markdown",
   "metadata": {
    "slideshow": {
     "slide_type": "subslide"
    },
    "tags": []
   },
   "source": [
    "# Custum Data Preperation"
   ]
  },
  {
   "cell_type": "markdown",
   "metadata": {
    "slideshow": {
     "slide_type": "subslide"
    },
    "tags": []
   },
   "source": [
    "![Data Preperation](data_prep.png)"
   ]
  },
  {
   "cell_type": "markdown",
   "metadata": {
    "slideshow": {
     "slide_type": "subslide"
    },
    "tags": []
   },
   "source": [
    "# Data Filtering"
   ]
  },
  {
   "cell_type": "markdown",
   "metadata": {
    "slideshow": {
     "slide_type": "subslide"
    },
    "tags": []
   },
   "source": [
    "![Data Filtering](Data_fil.png)"
   ]
  },
  {
   "cell_type": "markdown",
   "metadata": {
    "slideshow": {
     "slide_type": "subslide"
    },
    "tags": []
   },
   "source": [
    "# Grouping Data"
   ]
  },
  {
   "cell_type": "markdown",
   "metadata": {
    "slideshow": {
     "slide_type": "subslide"
    },
    "tags": []
   },
   "source": [
    "![Data Grouping](grouping_data.png)"
   ]
  },
  {
   "cell_type": "markdown",
   "metadata": {
    "slideshow": {
     "slide_type": "subslide"
    },
    "tags": []
   },
   "source": [
    "# Visualisation"
   ]
  },
  {
   "cell_type": "markdown",
   "metadata": {
    "slideshow": {
     "slide_type": "subslide"
    },
    "tags": []
   },
   "source": [
    "![Data Visualisation](visualisation.png)"
   ]
  },
  {
   "cell_type": "markdown",
   "metadata": {
    "slideshow": {
     "slide_type": "subslide"
    },
    "tags": []
   },
   "source": [
    "# Observations"
   ]
  },
  {
   "cell_type": "markdown",
   "metadata": {
    "slideshow": {
     "slide_type": "subslide"
    },
    "tags": []
   },
   "source": [
    "![Comments Data](comments.png)"
   ]
  },
  {
   "cell_type": "markdown",
   "metadata": {
    "slideshow": {
     "slide_type": "subslide"
    },
    "tags": []
   },
   "source": [
    "![Video_Title](Video_title.png)"
   ]
  }
 ],
 "metadata": {
  "celltoolbar": "Slideshow",
  "kernelspec": {
   "display_name": "Python 3 (ipykernel)",
   "language": "python",
   "name": "python3"
  },
  "language_info": {
   "codemirror_mode": {
    "name": "ipython",
    "version": 3
   },
   "file_extension": ".py",
   "mimetype": "text/x-python",
   "name": "python",
   "nbconvert_exporter": "python",
   "pygments_lexer": "ipython3",
   "version": "3.11.7"
  }
 },
 "nbformat": 4,
 "nbformat_minor": 4
}
